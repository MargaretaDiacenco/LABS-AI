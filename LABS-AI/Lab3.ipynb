{
  "nbformat": 4,
  "nbformat_minor": 0,
  "metadata": {
    "colab": {
      "name": "Lab3.ipynb",
      "provenance": [],
      "collapsed_sections": [],
      "toc_visible": true,
      "authorship_tag": "ABX9TyNxIHkI9xCUG5Q5bXTQ0SAK",
      "include_colab_link": true
    },
    "kernelspec": {
      "name": "python3",
      "display_name": "Python 3"
    }
  },
  "cells": [
    {
      "cell_type": "markdown",
      "metadata": {
        "id": "view-in-github",
        "colab_type": "text"
      },
      "source": [
        "<a href=\"https://colab.research.google.com/github/MargaretaDiacenco/LABS-AI/blob/main/Lab3.ipynb\" target=\"_parent\"><img src=\"https://colab.research.google.com/assets/colab-badge.svg\" alt=\"Open In Colab\"/></a>"
      ]
    },
    {
      "cell_type": "code",
      "metadata": {
        "colab": {
          "base_uri": "https://localhost:8080/",
          "height": 511
        },
        "id": "3UFy5RbTRIB9",
        "outputId": "7fc970c5-bbf9-4ca4-c35c-6926df6b91e6"
      },
      "source": [
        "import pandas as pd\r\n",
        "import numpy as np\r\n",
        "import matplotlib.pyplot as plt\r\n",
        "import seaborn as sns\r\n",
        "import csv\r\n",
        "from sklearn.model_selection import train_test_split\r\n",
        "from sklearn.linear_model import LinearRegression\r\n",
        "from scipy.stats import kendalltau\r\n",
        "from scipy.stats import ttest_rel\r\n",
        "from scipy.stats import f_oneway\r\n",
        "import sklearn.metrics as sm\r\n",
        "from sklearn.metrics import r2_score\r\n",
        "from scipy.stats import pearsonr, chi2_contingency, ttest_ind\r\n",
        "\r\n",
        "\r\n",
        "\r\n",
        "\r\n",
        "\r\n",
        "df = pd.read_csv('apartmentComplexData.txt')\r\n",
        "df.to_csv('apartmentComplexData.csv', index=None)\r\n",
        "\r\n",
        "df.columns = ['col1', 'col2', 'complexAge', 'totalRooms', 'totalBedrooms', 'complexInhabitants', 'apartmentsNr', 'col8', 'medianComplexValue']\r\n",
        "#df.head()\r\n",
        "\r\n",
        "#plt.figure()\r\n",
        "#sns.heatmap(df.corr(), cmap='coolwarm')\r\n",
        "#plt.show()\r\n",
        "\r\n",
        "df['complexAge'] = df['complexAge'].fillna(df['complexAge'].mean())\r\n",
        "df['totalRooms'] = df['totalRooms'].fillna(df['totalRooms'].mean())\r\n",
        "df['totalBedrooms'] = df['totalBedrooms'].fillna(df['totalBedrooms'].mean())\r\n",
        "df['complexInhabitants'] = df['complexInhabitants'].fillna(df['complexInhabitants'].mean())\r\n",
        "df['apartmentsNr'] = df['apartmentsNr'].fillna(df['apartmentsNr'].mean())\r\n",
        "df['medianComplexValue'] = df['medianComplexValue'].fillna(df['medianComplexValue'].mean())\r\n",
        "\r\n",
        "X = df[['col1', 'col2', 'complexAge', 'totalRooms', 'totalBedrooms', 'complexInhabitants', 'apartmentsNr', 'col8']].values\r\n",
        "Y = df[['medianComplexValue']].values\r\n",
        "X_train, X_test, Y_train, Y_test = train_test_split(X, Y)\r\n",
        "\r\n",
        "X_train, X_test, y_train, y_test = train_test_split(X, Y, test_size = 0.2, random_state = 20)\r\n",
        "\r\n",
        "regressor = LinearRegression()\r\n",
        "regressor.fit(X_train, y_train)\r\n",
        "\r\n",
        "Y_pred = regressor.predict(X_test)\r\n",
        "print(Y_pred)\r\n",
        "plt.scatter(y_test, Y_pred)\r\n",
        "\r\n",
        "# Example of the Kendall's Rank Correlation Test\r\n",
        "data1 = [-122.250000,37.850000,52.000000,1627.000000,280.000000,565.000000,259.000000,3.846200,342200.000000]\r\n",
        "data2 = [-122.160000,37.690000,36.000000,1118.000000,219.000000,625.000000,228.000000,3.781300,192200.000000]\r\n",
        "stat, p = kendalltau(data1, data2)\r\n",
        "print('stat=%.3f, p=%.3f' % (stat, p))\r\n",
        "if p > 0.05:\r\n",
        "\tprint('Probably independent')\r\n",
        "else:\r\n",
        "\tprint('Probably dependent')\r\n",
        "\r\n",
        "# Example of the Paired Student's t-test\r\n",
        "data1 = [-122.250000,37.850000,52.000000,1627.000000,280.000000,565.000000,259.000000,3.846200,342200.000000]\r\n",
        "data2 = [-122.160000,37.690000,36.000000,1118.000000,219.000000,625.000000,228.000000,3.781300,192200.000000]\r\n",
        "stat, p = ttest_rel(data1, data2)\r\n",
        "print('stat=%.3f, p=%.3f' % (stat, p))\r\n",
        "if p > 0.05:\r\n",
        "\tprint('Probably the same distribution')\r\n",
        "else:\r\n",
        "\tprint('Probably different distributions')\r\n",
        " \r\n",
        " \r\n",
        "# Example of the Analysis of Variance Test\r\n",
        "data1 = [-122.250000,37.850000,52.000000,1627.000000,280.000000,565.000000,259.000000,3.846200,342200.000000]\r\n",
        "data2 = [-122.160000,37.690000,36.000000,1118.000000,219.000000,625.000000,228.000000,3.781300,192200.000000]\r\n",
        "data3 = [-122.030000,37.970000,45.000000,1613.000000,338.000000,865.000000,336.000000,3.250000,151100.000000]\r\n",
        "stat, p = f_oneway(data1, data2, data3)\r\n",
        "print('stat=%.3f, p=%.3f' % (stat, p))\r\n",
        "if p > 0.05:\r\n",
        "\tprint('Probably the same distribution')\r\n",
        "else:\r\n",
        "\tprint('Probably different distributions')\r\n",
        "\r\n",
        "inputs = [[-122.130000,37.780000,54.000000,1284.000000,587.000000,751.000000,472.000000,3.640000]]\r\n",
        "prediction = regressor.predict(inputs)\r\n",
        "\r\n",
        "print(\"Predicted value\", prediction)\r\n"
      ],
      "execution_count": 111,
      "outputs": [
        {
          "output_type": "stream",
          "text": [
            "[[ 74397.68340315]\n",
            " [275850.27490625]\n",
            " [129095.04314162]\n",
            " ...\n",
            " [379584.8300749 ]\n",
            " [309910.49057885]\n",
            " [272408.38744228]]\n",
            "stat=0.889, p=0.000\n",
            "Probably dependent\n",
            "stat=1.004, p=0.345\n",
            "Probably the same distribution\n",
            "stat=0.172, p=0.843\n",
            "Probably the same distribution\n",
            "Predicted value [[288273.5737479]]\n"
          ],
          "name": "stdout"
        },
        {
          "output_type": "display_data",
          "data": {
            "image/png": "[encoded data removed]",
            "text/plain": [
              "<Figure size 432x288 with 1 Axes>"
            ]
          },
          "metadata": {
            "tags": [],
            "needs_background": "light"
          }
        }
      ]
    }
  ]
}
